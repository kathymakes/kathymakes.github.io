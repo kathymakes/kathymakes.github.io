{
 "cells": [
  {
   "cell_type": "markdown",
   "metadata": {},
   "source": [
    "## digital cut-up <3"
   ]
  },
  {
   "cell_type": "code",
   "execution_count": 9,
   "metadata": {
    "collapsed": true
   },
   "outputs": [],
   "source": [
    "import random"
   ]
  },
  {
   "cell_type": "code",
   "execution_count": 10,
   "metadata": {
    "collapsed": true
   },
   "outputs": [],
   "source": [
    "poem_1 = [line.strip().lower() for line in open(\"cutup_1.txt\")]"
   ]
  },
  {
   "cell_type": "code",
   "execution_count": 11,
   "metadata": {
    "collapsed": true
   },
   "outputs": [],
   "source": [
    "poem_2 = [line.strip().lower() for line in open(\"cutup_2.txt\")]"
   ]
  },
  {
   "cell_type": "code",
   "execution_count": 12,
   "metadata": {
    "collapsed": true
   },
   "outputs": [],
   "source": [
    "poem_3 = [line.strip().lower() for line in open(\"cutup_3.txt\")]"
   ]
  },
  {
   "cell_type": "code",
   "execution_count": 13,
   "metadata": {
    "collapsed": true
   },
   "outputs": [],
   "source": [
    "poem_4 = [line.strip().lower() for line in open(\"cutup_4.txt\")]"
   ]
  },
  {
   "cell_type": "code",
   "execution_count": 15,
   "metadata": {
    "scrolled": true
   },
   "outputs": [
    {
     "name": "stdout",
     "output_type": "stream",
     "text": [
      "dressmaker\n",
      "\n",
      "where someone can lay a fine hand\n",
      "a lovely waist\n",
      "all types and shapes of trees\n",
      "\n",
      "pull gathers to fit\n",
      "study it from a distance\n",
      "adding details\n",
      "\n",
      "and then press up from the waist\n",
      "matching notches\n",
      "right sides together\n"
     ]
    }
   ],
   "source": [
    "a = random.sample(poem_1, 3)\n",
    "b = random.sample(poem_3, 3)\n",
    "c = random.sample(poem_4, 3)\n",
    "\n",
    "poem = a + b + c\n",
    "random.shuffle(poem)\n",
    "\n",
    "print(\"dressmaker\")\n",
    "print(\"\")\n",
    "print(poem[0])\n",
    "print(poem[1])\n",
    "print(poem[2])\n",
    "print(\"\")\n",
    "print(poem[3])\n",
    "print(poem[4])\n",
    "print(poem[5])\n",
    "print(\"\")\n",
    "print(poem[6])\n",
    "print(poem[7])\n",
    "print(poem[8])\n",
    "\n"
   ]
  },
  {
   "cell_type": "code",
   "execution_count": 321,
   "metadata": {},
   "outputs": [
    {
     "data": {
      "text/plain": [
       "['and', 'on', 'on', 'or', 'tree-shaded', 'I', 'pleats', 'of', 'a', 'into']"
      ]
     },
     "execution_count": 321,
     "metadata": {},
     "output_type": "execute_result"
    }
   ],
   "source": [
    "words = open(\"cutup_1.txt\").read().split()\n",
    "random.sample(words,10)"
   ]
  },
  {
   "cell_type": "code",
   "execution_count": 229,
   "metadata": {
    "collapsed": true
   },
   "outputs": [],
   "source": [
    "all_words = (open(\"cutup_1.txt\").read() + open(\"cutup_2.txt\").read()).split()\n"
   ]
  },
  {
   "cell_type": "code",
   "execution_count": 230,
   "metadata": {},
   "outputs": [
    {
     "data": {
      "text/plain": [
       "['it',\n",
       " 'oil',\n",
       " 'surface;',\n",
       " 'smooth',\n",
       " 'form',\n",
       " 'the',\n",
       " 'won’t',\n",
       " 'cool',\n",
       " 'elastic,',\n",
       " 'tapped',\n",
       " 'the',\n",
       " 'the',\n",
       " 'someone',\n",
       " 'floured',\n",
       " '30-45',\n",
       " 'Shape',\n",
       " 'a',\n",
       " 'by',\n",
       " 'rise',\n",
       " 'lake',\n",
       " 'dress',\n",
       " 'time,',\n",
       " 'brown',\n",
       " 'I',\n",
       " 'flour',\n",
       " 'dissolve',\n",
       " 'until',\n",
       " 'yeast',\n",
       " 'and',\n",
       " 'dig',\n",
       " 'love',\n",
       " 'wear',\n",
       " 'you',\n",
       " 'at',\n",
       " 'dough',\n",
       " 'bowl,',\n",
       " 'Add',\n",
       " 'shoulders',\n",
       " 'from',\n",
       " 'or',\n",
       " 'waist',\n",
       " 'smooth',\n",
       " '30-35',\n",
       " 'greased',\n",
       " 'hollow',\n",
       " 'you',\n",
       " 'Beat',\n",
       " 'two',\n",
       " 'want',\n",
       " 'for']"
      ]
     },
     "execution_count": 230,
     "metadata": {},
     "output_type": "execute_result"
    }
   ],
   "source": [
    "random.sample(all_words,50)"
   ]
  }
 ],
 "metadata": {
  "kernelspec": {
   "display_name": "Python 3",
   "language": "python",
   "name": "python3"
  },
  "language_info": {
   "codemirror_mode": {
    "name": "ipython",
    "version": 3
   },
   "file_extension": ".py",
   "mimetype": "text/x-python",
   "name": "python",
   "nbconvert_exporter": "python",
   "pygments_lexer": "ipython3",
   "version": "3.6.3"
  }
 },
 "nbformat": 4,
 "nbformat_minor": 2
}
