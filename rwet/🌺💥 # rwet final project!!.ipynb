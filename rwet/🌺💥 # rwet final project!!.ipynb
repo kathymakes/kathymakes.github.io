{
 "cells": [
  {
   "cell_type": "markdown",
   "metadata": {},
   "source": [
    "## bloom boom"
   ]
  },
  {
   "cell_type": "code",
   "execution_count": 20,
   "metadata": {
    "scrolled": false
   },
   "outputs": [
    {
     "name": "stdout",
     "output_type": "stream",
     "text": [
      "rain\n",
      "\n",
      "---\n",
      "the rain in spain \n",
      "falls mainly in the plain.\n",
      "\n",
      "the rain in bain\n",
      "falls mainely in the slain\n",
      "\n",
      "falls kainely in the inhumane\n",
      "falls deignly in the bahrain\n",
      "falls lafontainely in the costain\n",
      "falls charmainely in the uptain\n",
      "falls retainly in the yeargain\n",
      "falls vainly in the hussain\n",
      "\n",
      "it FALLS in the duane\n",
      "it APPALLS in the dewayne\n",
      "it BALL'S in the kayne\n",
      "it RAWLS in the mccane\n",
      "it BAWLS in the stain\n",
      "it GALLS in the heyn\n",
      "\n",
      "in the plain\n",
      "in the hane\n",
      "in the maintain\n",
      "in the loraine\n",
      "in the overtrain\n",
      "in the serbaine\n",
      "in the pertain\n",
      "in the krain\n",
      "in the uptain\n",
      "in the thain\n",
      "in the ayn\n",
      "in the chain\n",
      "\n",
      "\n",
      "\n",
      "\n",
      "\n",
      "\n",
      "a trap cap\n",
      "\n",
      "---\n",
      "a zap schapp\n",
      "is to a papp strap\n",
      "as a hap happ\n",
      "is to a rapp sap\n",
      " \n",
      "a strap gapp\n",
      "is to a lappe lappe\n",
      "as a capp pap\n",
      "is to a nap trapp\n",
      " \n",
      "a sapp kapp\n",
      "is to a capp clapp\n",
      "as a gapp map\n",
      "is to a trappe happe\n",
      " \n",
      "a chap nap\n",
      "is to a papp chap\n",
      "as a lappe flap\n",
      "is to a lap giap\n",
      " \n",
      "\n",
      "---\n",
      "a babb grab\n",
      "is to a jab lab\n",
      "as a rab glab\n",
      "is to a schab mcnabb\n",
      " \n",
      "a crabbe schab\n",
      "is to a mab ab\n",
      "as a gab prefab\n",
      "is to a ab flab\n",
      " \n",
      "a crabb babb\n",
      "is to a crab slab\n",
      "as a grab grab\n",
      "is to a mcnabb babb\n",
      " \n",
      "a nab stab\n",
      "is to a mcnabb mcnab\n",
      "as a mcnabb sabb\n",
      "is to a stab rabb\n",
      " \n",
      "\n",
      "\n",
      "\n",
      "\n",
      "drip dip slips\n",
      "\n",
      "---\n",
      "hipp tripp sips\n",
      "quip gripp ellipse\n",
      "quipp kip cripps\n",
      "yip zip tripp's\n",
      "slip hippe blips\n",
      "hipp zipp dripps\n",
      "shipp microchip lips\n",
      "whip hipp drips\n",
      "skipp flip whips\n",
      "lippe slip lips'\n",
      "clip pipp crips\n",
      "lipp hippe blips\n",
      "\n",
      "\n",
      "\n",
      "\n",
      "\n",
      "\n",
      "sits\n",
      "\n",
      "---\n",
      "it critz\n",
      "it acquits\n",
      "it critz\n",
      "\n",
      "it pritz britts mitts\n",
      "it mitts it's bitz\n",
      "it obits nitz pitt's\n",
      "\n",
      "it wits emits fitz\n",
      "it ritts chits schmidt's\n",
      "it smits pitts it's\n",
      "\n",
      "it schmidt's gritz fitts\n",
      "it emits hritz schnitz\n",
      "it sitts omits brits\n",
      "\n",
      "who litz?\n",
      "who gritz?\n",
      "whose kitts reuse blitz?\n",
      "whose ritz asmus stitz?\n",
      "\n",
      "whose vanhoose misuse goose\n",
      "whose deduce reduce caboose\n",
      "\n",
      "\n",
      "\n",
      "\n",
      "bloom boom\n",
      "\n",
      "---\n",
      "a legroom kaboom\n",
      "loom legroom\n",
      "abloom costume\n",
      "costume vroom\n",
      "\n",
      "a crume croom\n",
      "blume broome\n",
      "croom perfume\n",
      "assume flume\n",
      "\n",
      "a blume loom\n",
      "plume kaboom\n",
      "flume khartoum\n",
      "flume flume\n",
      "\n",
      "\n",
      "\n",
      "\n",
      "\n",
      "hank pranks\n",
      "\n",
      "---\n",
      "drank commerzbank's\n",
      "plank bank's\n",
      "\n",
      "sank danks\n",
      "prank franks\n",
      "\n",
      "thank bank's\n",
      "plank shanks\n",
      "\n",
      "mbank tanks\n",
      "franc blanks\n",
      "\n",
      "blanc blanks\n",
      "planck danks\n",
      "\n",
      "schank blanks\n",
      "francke tank's\n",
      "\n",
      "\n",
      "\n",
      "\n",
      "\n"
     ]
    }
   ],
   "source": [
    "\n",
    "\n",
    "\n",
    "\n",
    "#rain\n",
    "#---\n",
    "rain_list = list(nlp(\"rain\").sents)\n",
    "rain_init = random.choice(rain_list)\n",
    "\n",
    "falls_list = list(nlp(\"falls\").sents)\n",
    "falls_init = random.choice(falls_list)\n",
    "\n",
    "print(rain_init)\n",
    "print('')\n",
    "print('---')\n",
    "\n",
    "print(\"the rain in spain \\nfalls mainly in the plain.\")\n",
    "print('')\n",
    "print(\"the rain in \"+ \" \".join(rhyme(rain_init, rain_list))+ \"\\nfalls \" + \" \".join(rhyme(rain_init, rain_list)) + \"ly in the \" + \" \".join(rhyme(rain_init, rain_list)))\n",
    "print('')\n",
    "\n",
    "for i in range(6):\n",
    "    print(\"falls \" + \" \".join(rhyme(rain_init, rain_list)) + \"ly in the \" + \" \".join(rhyme(rain_init, rain_list)))\n",
    "print('')\n",
    "\n",
    "print(\"it FALLS in the \" + \" \".join(rhyme(rain_init, rain_list)))\n",
    "for i in range(5):\n",
    "    print(\"it \" + \" \".join(rhyme(falls_init, falls_list)).upper() + \" in the \" + \" \".join(rhyme(rain_init, rain_list)))\n",
    "print('')\n",
    "\n",
    "for i in range(12):\n",
    "    print(\"in the \" + \" \".join(rhyme(rain_init, rain_list)))\n",
    "print('')\n",
    "\n",
    "newpoem();\n",
    "\n",
    "\n",
    "\n",
    "\n",
    "#zap gap\n",
    "#---\n",
    "print('')\n",
    "\n",
    "cap_list = list(nlp(\"a zap gap\").sents)\n",
    "cap_init = random.choice(cap_list)\n",
    "\n",
    "cab_list = list(nlp(\"a lab cab\").sents)\n",
    "cab_init = random.choice(cab_list)\n",
    "\n",
    "print(cap_init)\n",
    "print('')\n",
    "print('---')\n",
    "for i in range(4):\n",
    "    print(\" \".join(rhyme(cap_init, cap_list)))\n",
    "    print(\"is to \" + \" \".join(rhyme(cap_init, cap_list)))\n",
    "    print(\"as \" + \" \".join(rhyme(cap_init, cap_list)))\n",
    "    print(\"is to \" + \" \".join(rhyme(cap_init, cap_list)))\n",
    "    print(\" \")\n",
    "\n",
    "print('')\n",
    "print('---')\n",
    "for i in range(4):\n",
    "    print(\" \".join(rhyme(cab_init, cab_list)))\n",
    "    print(\"is to \" + \" \".join(rhyme(cab_init, cab_list)))\n",
    "    print(\"as \" + \" \".join(rhyme(cab_init, cab_list)))\n",
    "    print(\"is to \" + \" \".join(rhyme(cab_init, cab_list)))\n",
    "    print(\" \")\n",
    "\n",
    "\n",
    "newpoem();\n",
    "    \n",
    "\n",
    "    \n",
    "\n",
    "\n",
    "#drip dip slips\n",
    "#---\n",
    "chip_list = list(nlp(\"drip dip slips\").sents)\n",
    "chip_init = random.choice(chip_list)\n",
    "\n",
    "print(chip_init)\n",
    "print('')\n",
    "print('---')\n",
    "for i in range(12):\n",
    "    print(\" \".join(rhyme(chip_init, chip_list)))\n",
    "print('')\n",
    "\n",
    "newpoem();\n",
    "\n",
    "\n",
    "    \n",
    "\n",
    "\n",
    "#it sits / whose\n",
    "#---\n",
    "print('')\n",
    "\n",
    "print(it_init)\n",
    "print('')\n",
    "print('---')\n",
    "\n",
    "it_list = list(nlp(\"sits\").sents)\n",
    "it_init = random.choice(it_list)\n",
    "\n",
    "whose_list = list(nlp(\"use\").sents)\n",
    "whose_init = random.choice(whose_list)\n",
    "\n",
    "\n",
    "for i in range(3):\n",
    "    print(\"it \" + \" \".join(rhyme(it_init, it_list)))\n",
    "for i in range(3):\n",
    "    print('')\n",
    "    for i in range(3):\n",
    "        print(\"it \"+ \" \".join(rhyme(it_init, it_list)) + \" \" + \" \".join(rhyme(it_init, it_list)) + \" \" + \" \".join(rhyme(it_init, it_list)))\n",
    "\n",
    "print('')\n",
    "\n",
    "for i in range (2):\n",
    "    print(\"who \" + \" \".join(rhyme(it_init, it_list))+\"?\")\n",
    "for i in range (2):\n",
    "    print(\"whose \" + \" \".join(rhyme(it_init, it_list))+ \" \"+\" \".join(rhyme(whose_init, whose_list)) + \" \" +\" \".join(rhyme(it_init, it_list))+\"?\")\n",
    "print('')\n",
    "\n",
    "for i in range(2):\n",
    "    print(\"whose \" + \" \".join(rhyme(whose_init, whose_list)) + \" \" + \" \".join(rhyme(whose_init, whose_list))+ \" \" + \" \".join(rhyme(whose_init, whose_list)))\n",
    "\n",
    "newpoem();\n",
    "\n",
    "\n",
    "#bloom boom\n",
    "#---\n",
    "bloom_list = list(nlp(\"bloom boom\").sents)\n",
    "bloom_init = random.choice(bloom_list)\n",
    "\n",
    "print(bloom_init)\n",
    "print('')\n",
    "print('---')\n",
    "\n",
    "for i in range(3):\n",
    "    print(\"a \" + \" \".join(rhyme(bloom_init, bloom_list)))\n",
    "    for i in range(3):\n",
    "        print(\" \".join(rhyme(bloom_init, bloom_list)))\n",
    "    print(\"\")\n",
    "\n",
    "newpoem();\n",
    "\n",
    "\n",
    "#thanks\n",
    "#---\n",
    "t_list = list(nlp(\"hank pranks\").sents)\n",
    "t_init = random.choice(t_list)\n",
    "\n",
    "print(t_init)\n",
    "print('')\n",
    "print('---')\n",
    " \n",
    "for i in range(6):\n",
    "    print(\" \".join(rhyme(t_init, t_list)))\n",
    "    print(\" \".join(rhyme(t_init, t_list)))\n",
    "    print('')\n",
    "\n",
    "\n",
    "newpoem();\n",
    "\n",
    "\n"
   ]
  },
  {
   "cell_type": "markdown",
   "metadata": {},
   "source": [
    "## imports + rhyme function\n",
    "   \n",
    "(run this first)"
   ]
  },
  {
   "cell_type": "code",
   "execution_count": 2,
   "metadata": {
    "collapsed": true,
    "scrolled": true
   },
   "outputs": [],
   "source": [
    "import spacy\n",
    "import pronouncing\n",
    "import random"
   ]
  },
  {
   "cell_type": "code",
   "execution_count": 3,
   "metadata": {
    "collapsed": true,
    "scrolled": true
   },
   "outputs": [],
   "source": [
    "nlp = spacy.load('en_core_web_md')"
   ]
  },
  {
   "cell_type": "code",
   "execution_count": 35,
   "metadata": {
    "collapsed": true,
    "scrolled": true
   },
   "outputs": [],
   "source": [
    "def rhyme (initial_sent, sentences_as_list):\n",
    "    initial_sent = random.choice(sentences_as_list)\n",
    "    print(initial_sent)\n",
    "    new_sent = []\n",
    "    for word in list(initial_sent):\n",
    "        print(word)\n",
    "        if word.pos_ == 'VERB' and word.text != ('was') and word.text != ('is') and word.text != ('be'):\n",
    "            new_verb = random.choice(pronouncing.rhymes(str(word).lower()))\n",
    "            new_sent.append(new_verb)\n",
    "        elif word.pos_ == 'NOUN':\n",
    "            possible_rhymes = [item for item in pronouncing.rhymes(str(word).lower()) if item not in [\"clampitt\"]]#('jap', 'giap')]\n",
    "            \n",
    "            print(\"possible rhymes:\", possible_rhymes)\n",
    "            new_noun = random.choice(possible_rhymes)\n",
    "            print(\"new_noun!\", new_noun)\n",
    "            if (\" \".join(new_noun) == \"jap\"):\n",
    "                new_noun = random.choice(pronouncing.rhymes(str(word).lower()))\n",
    "            elif (\" \".join(new_noun) == \"giap\"):\n",
    "                new_noun = random.choice(pronouncing.rhymes(str(word).lower()))\n",
    "            else:\n",
    "                new_sent.append(new_noun)\n",
    "            \n",
    "#         elif word.pos_ == 'PROPN': \n",
    "#             new_pnoun = random.choice(pronouncing.rhymes(str(word).lower()))\n",
    "#             new_sent.append(new_pnoun)\n",
    "\n",
    "        else:\n",
    "            new_sent.append(str(word))\n",
    "    \n",
    "    return new_sent\n",
    "    "
   ]
  },
  {
   "cell_type": "code",
   "execution_count": 36,
   "metadata": {},
   "outputs": [
    {
     "name": "stdout",
     "output_type": "stream",
     "text": [
      "this is a permit.\n",
      "this\n",
      "is\n",
      "a\n",
      "permit\n",
      "possible rhymes: ['acquit', 'admit', 'barritt', 'befit', 'bit', 'boblitt', 'brit', 'britt', 'burditt', 'chit', 'clampitt', 'commit', 'davitt', 'devitt', 'dewit', 'dewitt', 'dewitte', 'douthit', 'douthitt', 'emit', 'fit', 'fitt', 'flit', 'get', 'gillett', 'grit', 'hit', 'hitt', 'it', 'it-wit', 'kit', 'kitt', 'knit', 'laffitte', 'lafitte', 'legit', 'lit', 'litt', 'mcnitt', 'mit', 'mitt', 'nit', 'obit', 'omit', 'pit', 'pitt', 'plitt', 'politte', 'presplit', 'pritt', 'quit', 'readmit', 'recommit', 'refit', 'remit', 'resubmit', 'ritt', 'savitt', 'schlitt', 'schmidt', 'schmit', 'schmitt', 'shit', 'shits', 'sit', 'skit', 'slit', 'smit', 'spit', 'split', 'splitt', 'stitt', 'submit', 'tit', 'transmit', 'tritt', 'unfit', 'vitt', 'whit', 'whit', 'whitt', 'whitt', 'wit', 'witt', 'witte', 'writ']\n",
      "new_noun! schmidt\n",
      ".\n"
     ]
    },
    {
     "data": {
      "text/plain": [
       "['this', 'is', 'a', 'schmidt', '.']"
      ]
     },
     "execution_count": 36,
     "metadata": {},
     "output_type": "execute_result"
    }
   ],
   "source": [
    "rhyme(\"\", list(nlp(\"this is a permit.\").sents))"
   ]
  },
  {
   "cell_type": "code",
   "execution_count": 6,
   "metadata": {
    "collapsed": true
   },
   "outputs": [],
   "source": [
    "def newpoem ():\n",
    "    for i in range(4):\n",
    "        print(\"\")"
   ]
  },
  {
   "cell_type": "code",
   "execution_count": 37,
   "metadata": {},
   "outputs": [
    {
     "name": "stdout",
     "output_type": "stream",
     "text": [
      "Collecting wordfilter\n",
      "  Downloading https://files.pythonhosted.org/packages/71/24/81db40a8e68dbee103bc19328ebbf5eba2ce58cd6982c4552b9da845ca3f/wordfilter-0.2.6.2-py2.py3-none-any.whl\n",
      "Installing collected packages: wordfilter\n",
      "Successfully installed wordfilter-0.2.6.2\n",
      "\u001b[33mYou are using pip version 9.0.3, however version 10.0.1 is available.\n",
      "You should consider upgrading via the 'pip install --upgrade pip' command.\u001b[0m\n"
     ]
    }
   ],
   "source": [
    "!pip install wordfilter"
   ]
  },
  {
   "cell_type": "code",
   "execution_count": 38,
   "metadata": {
    "collapsed": true
   },
   "outputs": [],
   "source": [
    "import wordfilter"
   ]
  },
  {
   "cell_type": "code",
   "execution_count": 41,
   "metadata": {},
   "outputs": [
    {
     "data": {
      "text/plain": [
       "True"
      ]
     },
     "execution_count": 41,
     "metadata": {},
     "output_type": "execute_result"
    }
   ],
   "source": [
    "wordfilter.blacklisted(\"bitch\")"
   ]
  },
  {
   "cell_type": "code",
   "execution_count": 42,
   "metadata": {},
   "outputs": [
    {
     "data": {
      "text/plain": [
       "['good', 'fine', 'polite', 'another']"
      ]
     },
     "execution_count": 42,
     "metadata": {},
     "output_type": "execute_result"
    }
   ],
   "source": [
    "some_words = [\"good\", \"fine\", \"polite\", \"bitch\", \"another\"]\n",
    "[item for item in some_words if not(wordfilter.blacklisted(item))]"
   ]
  },
  {
   "cell_type": "code",
   "execution_count": 43,
   "metadata": {},
   "outputs": [
    {
     "data": {
      "text/plain": [
       "<module 'json' from '/Users/kathywu/anaconda3/lib/python3.6/json/__init__.py'>"
      ]
     },
     "execution_count": 43,
     "metadata": {},
     "output_type": "execute_result"
    }
   ],
   "source": []
  },
  {
   "cell_type": "code",
   "execution_count": null,
   "metadata": {
    "collapsed": true
   },
   "outputs": [],
   "source": []
  }
 ],
 "metadata": {
  "kernelspec": {
   "display_name": "Python 3",
   "language": "python",
   "name": "python3"
  },
  "language_info": {
   "codemirror_mode": {
    "name": "ipython",
    "version": 3
   },
   "file_extension": ".py",
   "mimetype": "text/x-python",
   "name": "python",
   "nbconvert_exporter": "python",
   "pygments_lexer": "ipython3",
   "version": "3.6.3"
  }
 },
 "nbformat": 4,
 "nbformat_minor": 2
}
