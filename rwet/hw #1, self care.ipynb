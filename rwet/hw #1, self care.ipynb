{
 "cells": [
  {
   "cell_type": "markdown",
   "metadata": {},
   "source": [
    "## Instructions for Self Care\n",
    "\n",
    "Original written in Fortran in 1967 by Alison Knowles and James Tenney. [ELMCIP entry](https://elmcip.net/creative-work/house-dust). [More information](http://blog.calarts.edu/2009/09/10/alison-knowles-james-tenney-and-the-house-of-dust-at-calarts/). [Watch Alison Knowles read from this piece](https://www.youtube.com/watch?v=-68Z708lFsY)."
   ]
  },
  {
   "cell_type": "code",
   "execution_count": 2,
   "metadata": {
    "collapsed": true
   },
   "outputs": [],
   "source": [
    "import random"
   ]
  },
  {
   "cell_type": "code",
   "execution_count": 3,
   "metadata": {
    "collapsed": true
   },
   "outputs": [],
   "source": [
    "materials = [\n",
    "    'the rain doesn\\'t stop',\n",
    "    'the temperature drops',\n",
    "    'the temperature rises',\n",
    "    'you find it hard to breathe',\n",
    "    'you dream of teeth',\n",
    "    'your texts go ignored',\n",
    "    'you miss home',\n",
    "    'you are tired of trying',\n",
    "    'you hear from an old friend',\n",
    "    'you are exhausted by news',\n",
    "    'your battery is less than 10%',\n",
    "    'you feel completely inadequate',\n",
    "    'your wisdom tooth aches',\n",
    "    'you leave the house',\n",
    "    'you are full of regret',\n",
    "    'you wake up tomorrow',\n",
    "    'you\\'ve run out of patience',\n",
    "    'no one is watching',\n",
    "    'you are feeling afraid',\n",
    "    'opportunity knocks'\n",
    "    \n",
    "\n",
    "]"
   ]
  },
  {
   "cell_type": "code",
   "execution_count": 4,
   "metadata": {
    "collapsed": true
   },
   "outputs": [],
   "source": [
    "locations = [\n",
    "    'shelter',\n",
    "    'treehouse',\n",
    "    'yurt',\n",
    "    'tree',\n",
    "    'bridge',\n",
    "    'blanket',\n",
    "    'dress',\n",
    "    'soup kitchen',\n",
    "    'piano',\n",
    "    'potluck dinner',\n",
    "    'migration pattern',\n",
    "    'help hotline',\n",
    "    'hiding place',\n",
    "    'poem',\n",
    "    'bed',\n",
    "    'mirage',\n",
    "    'fire',\n",
    "    'computer',\n",
    "    'battery',\n",
    "    'rescue boat',\n",
    "    'purse',\n",
    "    'storm',\n",
    "    'new body',\n",
    "    'picnic',\n",
    "    'new friendship',\n",
    "    'kaleidoscope',\n",
    "    'new pair of shoes'\n",
    "    \n",
    "    \n",
    "]"
   ]
  },
  {
   "cell_type": "code",
   "execution_count": 5,
   "metadata": {
    "collapsed": true
   },
   "outputs": [],
   "source": [
    "lights = [\n",
    "    'thoughts for your future lover',\n",
    "    'traffic sound',\n",
    "    'ice',\n",
    "    'dust',\n",
    "    'hopeful garbage',\n",
    "    'juniper tree',\n",
    "    'rattan straw',\n",
    "    'wishing teeth',\n",
    "    'cheap novels',\n",
    "    'soup',\n",
    "    'california dreams',\n",
    "    'summer',\n",
    "    'crisp linens',\n",
    "    'rice',\n",
    "    'fire',\n",
    "    'rain',\n",
    "    'multi-vitamins',\n",
    "    'holes',\n",
    "    'begonias',\n",
    "    'the love of your life',\n",
    "    'your ancestors',\n",
    "    'the moon',\n",
    "    'daylight',\n",
    "    'glass',\n",
    "    'amethysts',\n",
    "    'rosemary',\n",
    "    'scented candles',\n",
    "    'bread',\n",
    "\n",
    "    \n",
    "]"
   ]
  },
  {
   "cell_type": "code",
   "execution_count": 6,
   "metadata": {
    "collapsed": true
   },
   "outputs": [],
   "source": [
    "inhabitants = [\n",
    "    'invite others to stay a while',\n",
    "    'give it away',\n",
    "    'throw it away',\n",
    "    'share it with a friend',\n",
    "    'wait a while',\n",
    "    'make it open-source',\n",
    "    'save it for a rainy day',\n",
    "    'linger there a little longer',\n",
    "    'lose it on the subway',\n",
    "    'forget it on the plane',\n",
    "    'leave it on the bus',\n",
    "    'save it for later',\n",
    "    'leave it outside',\n",
    "    'then repeat, for three days',\n",
    "    'throw it into the sea',\n",
    "    'try to keep it a secret',\n",
    "    'give it to a stranger',\n",
    "\n",
    "]"
   ]
  },
  {
   "cell_type": "code",
   "execution_count": 11,
   "metadata": {
    "scrolled": false
   },
   "outputs": [
    {
     "name": "stdout",
     "output_type": "stream",
     "text": [
      "\n",
      "when you are exhausted by news\n",
      "     build a hiding place\n",
      "         out of soup\n",
      "             and then repeat, for three days\n",
      "\n",
      "when you are full of regret\n",
      "     build a new pair of shoes\n",
      "         out of your ancestors\n",
      "             and save it for later\n",
      "\n",
      "when the temperature rises\n",
      "     build a poem\n",
      "         out of the moon\n",
      "             and give it to a stranger\n",
      "\n",
      "when you miss home\n",
      "     build a treehouse\n",
      "         out of begonias\n",
      "             and forget it on the plane\n",
      "\n"
     ]
    }
   ],
   "source": [
    "stanza_count = 4\n",
    "#print(\"to _____:\")\n",
    "print(\"\")\n",
    "\n",
    "for i in range(stanza_count):\n",
    "    print(\"when \" + random.choice(materials))\n",
    "    print(\"     build a \" + random.choice(locations))\n",
    "    print(\"         out of \" + random.choice(lights))\n",
    "    print(\"             and \" + random.choice(inhabitants))\n",
    "    print(\"\")"
   ]
  },
  {
   "cell_type": "markdown",
   "metadata": {},
   "source": [
    "## Immigrant Letter\n",
    "\n",
    "Original written in Fortran in 1967 by Alison Knowles and James Tenney. [ELMCIP entry](https://elmcip.net/creative-work/house-dust). [More information](http://blog.calarts.edu/2009/09/10/alison-knowles-james-tenney-and-the-house-of-dust-at-calarts/). [Watch Alison Knowles read from this piece](https://www.youtube.com/watch?v=-68Z708lFsY)."
   ]
  },
  {
   "cell_type": "code",
   "execution_count": 17,
   "metadata": {
    "collapsed": true
   },
   "outputs": [],
   "source": [
    "import random"
   ]
  },
  {
   "cell_type": "code",
   "execution_count": 53,
   "metadata": {
    "collapsed": true
   },
   "outputs": [],
   "source": [
    "timeframe = [\n",
    "    'the environmental policy changed',\n",
    "    'the Revolution ended',\n",
    "    'that our new leader was elected',\n",
    "    'the global government collapsed',\n",
    "    'that our longtime leader died',\n",
    "    'my friend\\'s family was exiled',\n",
    "    'the space probe was launched',\n",
    "    'the bays all flooded',\n",
    "    'the oyster went extinct',\n",
    "    'the storm came',\n",
    "    'we reached Alpha Centari'\n",
    "    \n",
    "\n",
    "]"
   ]
  },
  {
   "cell_type": "code",
   "execution_count": 19,
   "metadata": {
    "collapsed": true
   },
   "outputs": [],
   "source": [
    "occupation1 = [\n",
    "    'tailor',\n",
    "    'communist',\n",
    "    'anarchist',\n",
    "'lieutenant',\n",
    "    'nurse',\n",
    "    'writer',\n",
    "    'teacher',\n",
    "    'hotel worker',\n",
    "    'restaurant owner',\n",
    "    'factory worker',\n",
    "    'mailman',\n",
    "    'maid',\n",
    "    'cab driver',\n",
    "    'bus driver',\n",
    "    'engineer',\n",
    "    'farmer'\n",
    "    \n",
    "]"
   ]
  },
  {
   "cell_type": "code",
   "execution_count": 20,
   "metadata": {
    "collapsed": true
   },
   "outputs": [],
   "source": [
    "occupation2 = [\n",
    "    'movie star',\n",
    "    'lawyer',\n",
    "    'doctor',\n",
    "    'teacher',\n",
    "    'author',\n",
    "    'engineer',\n",
    "    'astronaut',\n",
    "    \n",
    "\n",
    "]"
   ]
  },
  {
   "cell_type": "code",
   "execution_count": 46,
   "metadata": {
    "collapsed": true
   },
   "outputs": [],
   "source": [
    "food = [\n",
    "    'fighting',\n",
    "    'laughing',\n",
    "    'hard at work',\n",
    "    'fighting over food scraps',\n",
    "    'competing',\n",
    "    'taking care of each other',\n",
    "    'hoping for better things',\n",
    "    'partying',\n",
    "    'worried about the future'\n",
    "]"
   ]
  },
  {
   "cell_type": "code",
   "execution_count": 142,
   "metadata": {
    "collapsed": true
   },
   "outputs": [],
   "source": [
    "things = [\n",
    "    'electric lights',\n",
    "    'wonder bread',\n",
    "    'color TV',\n",
    "    'blue jeans',\n",
    "    'chicken noodle soup',\n",
    "    'hard boiled eggs',\n",
    "    'retirement plans',\n",
    "    'health insurance'\n",
    "    \n",
    "]"
   ]
  },
  {
   "cell_type": "code",
   "execution_count": 141,
   "metadata": {
    "collapsed": true
   },
   "outputs": [],
   "source": [
    "people = [\n",
    "    'kind',\n",
    "    'shrewd',\n",
    "    'greedy',\n",
    "    'decentralized',\n",
    "    'shallow',\n",
    "    'non-existent',\n",
    "    'rich',\n",
    "    'poor',\n",
    "    'hard-working',\n",
    "    'well-intentioned',\n",
    "    'angry'\n",
    "    \n",
    "]"
   ]
  },
  {
   "cell_type": "code",
   "execution_count": 24,
   "metadata": {
    "collapsed": true
   },
   "outputs": [],
   "source": [
    "yearlong = [\n",
    "    'cold',\n",
    "    'warm',\n",
    "    'green',\n",
    "    'dry',\n",
    "    'wet',\n",
    "    'festive',\n",
    "    'flowering',\n",
    "    'raining'\n",
    "    \n",
    "]"
   ]
  },
  {
   "cell_type": "code",
   "execution_count": 1,
   "metadata": {
    "scrolled": true
   },
   "outputs": [
    {
     "name": "stdout",
     "output_type": "stream",
     "text": [
      "A letter to my future child:\n",
      "\n"
     ]
    },
    {
     "ename": "NameError",
     "evalue": "name 'random' is not defined",
     "output_type": "error",
     "traceback": [
      "\u001b[0;31m---------------------------------------------------------------------------\u001b[0m",
      "\u001b[0;31mNameError\u001b[0m                                 Traceback (most recent call last)",
      "\u001b[0;32m<ipython-input-1-c44f3a8efb82>\u001b[0m in \u001b[0;36m<module>\u001b[0;34m()\u001b[0m\n\u001b[1;32m      4\u001b[0m     \u001b[0mprint\u001b[0m\u001b[0;34m(\u001b[0m\u001b[0;34m\"\"\u001b[0m\u001b[0;34m)\u001b[0m\u001b[0;34m;\u001b[0m\u001b[0;34m\u001b[0m\u001b[0m\n\u001b[1;32m      5\u001b[0m \u001b[0;34m\u001b[0m\u001b[0m\n\u001b[0;32m----> 6\u001b[0;31m     \u001b[0mprint\u001b[0m\u001b[0;34m(\u001b[0m\u001b[0;34m\"I immigrated to Earth the same year that \"\u001b[0m \u001b[0;34m+\u001b[0m \u001b[0mrandom\u001b[0m\u001b[0;34m.\u001b[0m\u001b[0mchoice\u001b[0m\u001b[0;34m(\u001b[0m\u001b[0mtimeframe\u001b[0m\u001b[0;34m)\u001b[0m \u001b[0;34m+\u001b[0m\u001b[0;34m\".\"\u001b[0m\u001b[0;34m)\u001b[0m\u001b[0;34m;\u001b[0m\u001b[0;34m\u001b[0m\u001b[0m\n\u001b[0m\u001b[1;32m      7\u001b[0m     \u001b[0mprint\u001b[0m\u001b[0;34m(\u001b[0m\u001b[0;34m\"Every day I work \"\u001b[0m \u001b[0;34m+\u001b[0m \u001b[0mstr\u001b[0m\u001b[0;34m(\u001b[0m\u001b[0mrandom\u001b[0m\u001b[0;34m.\u001b[0m\u001b[0mrandint\u001b[0m\u001b[0;34m(\u001b[0m\u001b[0;36m8\u001b[0m\u001b[0;34m,\u001b[0m\u001b[0;36m20\u001b[0m\u001b[0;34m)\u001b[0m\u001b[0;34m)\u001b[0m \u001b[0;34m+\u001b[0m \u001b[0;34m\" hours as a \"\u001b[0m \u001b[0;34m+\u001b[0m \u001b[0mrandom\u001b[0m\u001b[0;34m.\u001b[0m\u001b[0mchoice\u001b[0m\u001b[0;34m(\u001b[0m\u001b[0moccupation1\u001b[0m\u001b[0;34m)\u001b[0m \u001b[0;34m+\u001b[0m \u001b[0;34m\", in hopes you will have a better future.\"\u001b[0m\u001b[0;34m)\u001b[0m\u001b[0;34m\u001b[0m\u001b[0m\n\u001b[1;32m      8\u001b[0m \u001b[0;34m\u001b[0m\u001b[0m\n",
      "\u001b[0;31mNameError\u001b[0m: name 'random' is not defined"
     ]
    }
   ],
   "source": [
    "stanza_count = 1\n",
    "for i in range(stanza_count):\n",
    "    print(\"A letter to my future child:\");\n",
    "    print(\"\");\n",
    "\n",
    "    print(\"I immigrated to Earth the same year that \" + random.choice(timeframe) +\".\");\n",
    "    print(\"Every day I work \" + str(random.randint(8,20)) + \" hours as a \" + random.choice(occupation1) + \", in hopes you will have a better future.\")\n",
    "    \n",
    "    print(\"\");\n",
    "\n",
    "    print(\"Back on my home planet, people are \" + random.choice(people) + \", the government is \" + random.choice(people) + \", and it is \" + random.choice(yearlong) +\" all year long.\");\n",
    "    print(\"My father was a \" + random.choice(occupation1) + \" and my mother was a \" + random.choice(occupation1) +\".\");\n",
    "    print(\"My \" +  str(random.randint(3,7)) + \" brothers and sisters were always \" + random.choice(food) + \".\");\n",
    "print(\"\");\n",
    "# print(\"One day I will take you home to see everyone.\");\n",
    "\n",
    "# print(\"\");\n",
    "print(\"I hope for you in this new life that you will have all the \" + random.choice(things) + \" you could want.\");\n",
    "print(\"\");\n"
   ]
  }
 ],
 "metadata": {
  "kernelspec": {
   "display_name": "Python 3",
   "language": "python",
   "name": "python3"
  },
  "language_info": {
   "codemirror_mode": {
    "name": "ipython",
    "version": 3
   },
   "file_extension": ".py",
   "mimetype": "text/x-python",
   "name": "python",
   "nbconvert_exporter": "python",
   "pygments_lexer": "ipython3",
   "version": "3.6.3"
  }
 },
 "nbformat": 4,
 "nbformat_minor": 2
}
